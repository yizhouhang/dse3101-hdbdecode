{
 "cells": [
  {
   "cell_type": "code",
   "execution_count": null,
   "id": "a5791b81",
   "metadata": {},
   "outputs": [],
   "source": [
    "import pandas as pd\n",
    "import numpy as np"
   ]
  },
  {
   "cell_type": "code",
   "execution_count": null,
   "id": "2e77fc20",
   "metadata": {},
   "outputs": [],
   "source": [
    "df_resale = pd.read_csv('../data/cleaned/resale_price_cleaned_4.csv')"
   ]
  },
  {
   "cell_type": "code",
   "execution_count": null,
   "id": "e1299281",
   "metadata": {},
   "outputs": [],
   "source": [
    "df_pri = pd.read_csv('../data/raw/avail_vac_priv_res_prop.csv', skiprows=9).iloc[3:4,:]\n",
    "df_pri = pd.melt(df_pri, id_vars=['Data Series'], var_name='quarter', value_name='priv_prop')\n",
    "df_pri.drop(columns=['Data Series'], inplace=True)\n",
    "df_pri['quarter'] = df_pri['quarter'].str.replace('Q', '').str.replace(' ', '')\n",
    "df_resale['quarter'] = pd.to_datetime(df_resale['month']).dt.to_period('Q').astype(str).str.replace('Q', '')\n",
    "df_resale = df_resale.merge(on = 'quarter', right = df_pri, how = 'left')\n",
    "df_resale.drop(columns=['quarter'], inplace=True)"
   ]
  },
  {
   "cell_type": "code",
   "execution_count": null,
   "id": "20ee0b9e",
   "metadata": {},
   "outputs": [],
   "source": [
    "df_resale.dropna(subset=['resale_price'], inplace=True)"
   ]
  },
  {
   "cell_type": "code",
   "execution_count": null,
   "id": "c117f2fc",
   "metadata": {},
   "outputs": [],
   "source": [
    "df_resale.to_csv('../data/cleaned/resale_price_cleaned_final.csv', index=False)"
   ]
  }
 ],
 "metadata": {
  "language_info": {
   "name": "python"
  }
 },
 "nbformat": 4,
 "nbformat_minor": 5
}
