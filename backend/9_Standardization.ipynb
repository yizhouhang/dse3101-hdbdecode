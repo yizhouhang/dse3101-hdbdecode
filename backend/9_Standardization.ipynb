{
 "cells": [
  {
   "cell_type": "code",
   "execution_count": null,
   "id": "9a3d7c63",
   "metadata": {},
   "outputs": [],
   "source": [
    "import pandas as pd\n",
    "import numpy as np\n",
    "\n",
    "df = pd.read_csv('../data/cleaned/resale_price_cleaned_final.csv')"
   ]
  },
  {
   "cell_type": "code",
   "execution_count": null,
   "id": "de88fbc6",
   "metadata": {},
   "outputs": [],
   "source": [
    "df_standardized_clean = df.copy()\n",
    "\n",
    "def standardize(col):\n",
    "    return (col - col.mean()) / col.std()\n",
    "\n",
    "df_standardized_clean['month'] = pd.to_datetime(df_standardized_clean['month'])\n",
    "df_standardized_clean['month_num'] = df_standardized_clean['month'].dt.month.astype(float)\n",
    "df_standardized_clean = df_standardized_clean.drop(columns=['month'])"
   ]
  },
  {
   "cell_type": "code",
   "execution_count": null,
   "id": "05500a32",
   "metadata": {},
   "outputs": [],
   "source": [
    "columns_to_standardize = [\n",
    "    'flat_type', 'storey_range', 'floor_area_sqm', 'remaining_lease', 'resale_price',\n",
    "    'lat', 'lon', 'nearest_mrt_distance', 'nearest_bus_distance', 'education_score',\n",
    "    'shopping_score', 'food_score', 'recreation_score', 'healthcare_score',\n",
    "    'inflation_rate (x100)', 'building_age_2025', 'total_unemployment_rate',\n",
    "    'resident_unemployment_rate', 'interest_rate', 'fx_rate', 'avg_household_income',\n",
    "    'year', 'priv_prop', 'month_num', 'CPI (base 2024-12)'\n",
    "]\n",
    "\n",
    "df_standardized_clean[columns_to_standardize] = columns_to_standardize[columns_to_standardize].apply(standardize)"
   ]
  },
  {
   "cell_type": "code",
   "execution_count": null,
   "id": "2ae6fd16",
   "metadata": {},
   "outputs": [],
   "source": [
    "df_normalized_clean.to_csv('../data/cleaned/resale_price_standardized.csv', index=False)"
   ]
  }
 ],
 "metadata": {
  "language_info": {
   "name": "python"
  }
 },
 "nbformat": 4,
 "nbformat_minor": 5
}
