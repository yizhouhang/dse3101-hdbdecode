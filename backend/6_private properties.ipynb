{
 "cells": [
  {
   "cell_type": "code",
   "execution_count": 1,
   "id": "a5791b81",
   "metadata": {},
   "outputs": [],
   "source": [
    "import pandas as pd\n",
    "import numpy as np"
   ]
  },
  {
   "cell_type": "code",
   "execution_count": 2,
   "id": "2e77fc20",
   "metadata": {},
   "outputs": [],
   "source": [
    "df_resale = pd.read_csv('../data/cleaned/resale_price_cleaned_4.csv')"
   ]
  },
  {
   "cell_type": "code",
   "execution_count": 3,
   "id": "e1299281",
   "metadata": {},
   "outputs": [],
   "source": [
    "df_pri = pd.read_csv('../data/raw/avail_vac_priv_res_prop.csv', skiprows=9).iloc[3:4,:]\n",
    "df_pri = pd.melt(df_pri, id_vars=['Data Series'], var_name='quarter', value_name='priv_prop')\n",
    "df_pri.drop(columns=['Data Series'], inplace=True)\n",
    "df_pri['quarter'] = df_pri['quarter'].str.replace('Q', '').str.replace(' ', '')\n",
    "df_resale['quarter'] = pd.to_datetime(df_resale['month']).dt.to_period('Q').astype(str).str.replace('Q', '')\n",
    "df_resale = df_resale.merge(on = 'quarter', right = df_pri, how = 'left')\n",
    "df_resale.drop(columns=['quarter'], inplace=True)"
   ]
  },
  {
   "cell_type": "code",
   "execution_count": 4,
   "id": "20ee0b9e",
   "metadata": {},
   "outputs": [],
   "source": [
    "df_resale.dropna(subset=['resale_price'], inplace=True)"
   ]
  },
  {
   "cell_type": "code",
   "execution_count": 5,
   "id": "898c30ce",
   "metadata": {},
   "outputs": [],
   "source": [
    "df_resale.drop(columns=['avg_household_income_y'], inplace=True)\n",
    "df_resale.rename(columns={'avg_household_income_x': 'avg_household_income'}, inplace=True)"
   ]
  },
  {
   "cell_type": "code",
   "execution_count": 7,
   "id": "0113923a",
   "metadata": {},
   "outputs": [],
   "source": [
    "df_resale = df_resale.drop(columns=[\n",
    "    'total_unemployment_rate_y', \n",
    "    'resident_unemployment_rate_y'\n",
    "])\n",
    "\n",
    "df_resale = df_resale.rename(columns={\n",
    "    'total_unemployment_rate_x': 'total_unemployment_rate',\n",
    "    'resident_unemployment_rate_x': 'resident_unemployment_rate'\n",
    "})"
   ]
  },
  {
   "cell_type": "code",
   "execution_count": 9,
   "id": "c117f2fc",
   "metadata": {},
   "outputs": [],
   "source": [
    "df_resale.to_csv('../data/cleaned/resale_price_cleaned_final.csv', index=False)"
   ]
  }
 ],
 "metadata": {
  "kernelspec": {
   "display_name": "base",
   "language": "python",
   "name": "python3"
  },
  "language_info": {
   "codemirror_mode": {
    "name": "ipython",
    "version": 3
   },
   "file_extension": ".py",
   "mimetype": "text/x-python",
   "name": "python",
   "nbconvert_exporter": "python",
   "pygments_lexer": "ipython3",
   "version": "3.11.7"
  }
 },
 "nbformat": 4,
 "nbformat_minor": 5
}
