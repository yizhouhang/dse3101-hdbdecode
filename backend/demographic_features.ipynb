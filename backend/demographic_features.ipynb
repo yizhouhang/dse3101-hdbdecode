{
 "cells": [
  {
   "cell_type": "markdown",
   "id": "054707fa",
   "metadata": {},
   "source": [
    "## Packages and Reading Dataset"
   ]
  },
  {
   "cell_type": "code",
   "execution_count": null,
   "id": "96bde987",
   "metadata": {},
   "outputs": [],
   "source": [
    "import pandas as pd\n",
    "import numpy as np\n",
    "import xlrd"
   ]
  },
  {
   "cell_type": "code",
   "execution_count": null,
   "id": "3b5e98ee",
   "metadata": {},
   "outputs": [],
   "source": [
    "df = pd.read_csv('../data/cleaned/resale_price_cleaned_3.csv')\n",
    "df['year'] = pd.to_datetime(df['month']).dt.year\n",
    "df['closest_year'] = df['year'].apply(lambda x: 2015 if abs(x - 2015) < abs(x - 2020) else 2020)"
   ]
  },
  {
   "cell_type": "markdown",
   "id": "b9a1374c",
   "metadata": {},
   "source": [
    "## Religion"
   ]
  },
  {
   "cell_type": "code",
   "execution_count": null,
   "id": "4a7cf003",
   "metadata": {},
   "outputs": [],
   "source": [
    "df_religion_2015 = pd.read_csv('../data/raw/religion_2015.csv')\n",
    "df_religion_2020 = pd.read_csv('../data/raw/religion_2020.csv')\n",
    "\n",
    "df_religion_2015['year'] = 2015\n",
    "df_religion_2020['year'] = 2020\n",
    "\n",
    "df_religion_2015.rename(columns = {'Thousands':'town'}, inplace = True)\n",
    "df_religion_2020.rename(columns = {'Number':'town'}, inplace = True)\n",
    "\n",
    "columns_to_convert = df_religion_2015.columns.difference(['town', 'Total', 'year'])\n",
    "df_religion_2015[columns_to_convert] = df_religion_2015[columns_to_convert].div(df_religion_2015['Total'], axis=0)\n",
    "\n",
    "df_religion_2020['Sikhism'] = df_religion_2020['Sikhism'].str.replace(\"-\", \"0\", case=False, regex=False)\n",
    "columns_to_convert = df_religion_2020.columns.difference(['town', 'Total', 'year'])\n",
    "df_religion_2020[columns_to_convert] = df_religion_2020[columns_to_convert].div(df_religion_2020['Total'], axis=0)\n",
    "\n",
    "columns_to_int = df_religion_2020.columns.difference(['town'])\n",
    "df_religion_2020[columns_to_int] = df_religion_2020[columns_to_int].astype(int)\n",
    "\n",
    "df_religion_2015['town'] = df_religion_2015['town'].str.upper()\n",
    "df_religion_2020['town'] = df_religion_2020['town'].str.upper()\n",
    "\n",
    "df_merged_2015 = df[df['closest_year'] == 2015].merge(df_religion_2015, on='town', suffixes=('', '_religion'), how = 'left')\n",
    "df_merged_2020 = df[df['closest_year'] == 2020].merge(df_religion_2020, on='town', suffixes=('', '_religion'), how = 'left')\n",
    "\n",
    "df_final = pd.concat([df_merged_2015, df_merged_2020], ignore_index=True).drop(columns=['Total', 'year', 'year_religion'], inplace=True)\n",
    "df_final"
   ]
  },
  {
   "cell_type": "markdown",
   "id": "ed127cc6",
   "metadata": {},
   "source": [
    "## Ethnicity"
   ]
  },
  {
   "cell_type": "code",
   "execution_count": null,
   "id": "ed8fa8fa",
   "metadata": {},
   "outputs": [],
   "source": [
    "df_ethnicity_2015 = pd.read_excel('../data/raw/ethnicity_2015.xls', sheet_name='T8', skiprows=5).dropna(subset = [\"Planning Area\"])\n",
    "df_ethnicity_2015 = df_ethnicity_2015[['Planning Area', 'Chinese', 'Malays', 'Indians', 'Others', 'Total']]\n",
    "\n",
    "df_ethnicity_2015 = df_ethnicity_2015[df_ethnicity_2015['Planning Area'] != 'Planning Area']\n",
    "df_ethnicity_2015.replace('-', np.nan, inplace=True).dropna(inplace=True)\n",
    "df_ethnicity_2015['year'] = 2015\n",
    "df_ethnicity_2015.rename(columns = {'Planning Area':'town'}, inplace = True)\n",
    "columns_to_convert_ethnicity = df_ethnicity_2015.columns.difference(['town', 'Total', 'year'])\n",
    "df_ethnicity_2015[columns_to_convert_ethnicity] = df_ethnicity_2015[columns_to_convert_ethnicity].div(df_ethnicity_2015['Total'], axis=0)\n",
    "df_ethnicity_2015['town'] = df_ethnicity_2015['town'].str.upper()\n",
    "df_merged_2015_eth = df_final[df_final['closest_year'] == 2015].merge(df_ethnicity_2015, on='town', suffixes=('', '_ethnicity'), how = 'left')"
   ]
  },
  {
   "cell_type": "code",
   "execution_count": null,
   "id": "463634aa",
   "metadata": {},
   "outputs": [],
   "source": [
    "df_ethnicity_2020 = pd.read_csv('../data/raw/ethnicity_2020.csv')\n",
    "df_ethnicity_2020['year'] = 2020\n",
    "df_ethnicity_2020.rename(columns = {'Number':'town',\n",
    "                                    'Chinese_Total' : 'Chinese',\n",
    "                                    'Malays_Total' : 'Malays',\n",
    "                                    'Indians_Total' : 'Indians',\n",
    "                                    'Others_Total' : 'Others',\n",
    "                                    'Total_Total' : 'Total'}\n",
    "                                    ,inplace = True)\n",
    "df_ethnicity_2020 = df_ethnicity_2020[['town', 'Chinese', 'Malays', 'Indians', 'Others', 'Total', 'year']]\n",
    "columns_to_convert = df_ethnicity_2020.columns.difference(['town', 'Total', 'year'])\n",
    "columns_to_int = df_ethnicity_2020.columns.difference(['town'])\n",
    "df_ethnicity_2020.replace('-', np.nan, inplace=True).dropna(inplace=True)\n",
    "df_ethnicity_2020 = df_ethnicity_2020[df_ethnicity_2020['town'].str.endswith('- Total')]\n",
    "df_ethnicity_2020['town'] = df_ethnicity_2020['town'].str.replace('- Total', '').str.upper()\n",
    "df_ethnicity_2020[columns_to_int] = df_ethnicity_2020[columns_to_int].astype(int)\n",
    "df_ethnicity_2020[columns_to_convert] = df_ethnicity_2020[columns_to_convert].div(df_ethnicity_2020['Total'], axis=0)\n",
    "df_ethnicity_2020 = df_ethnicity_2020[['Chinese', 'Malays', 'Indians', 'Others', 'town', 'year']]\n",
    "df_merged_2020_eth = df_final[df_final['closest_year'] == 2020].merge(df_ethnicity_2020, on='town', suffixes=('', '_ethnicity'), how = 'left')"
   ]
  },
  {
   "cell_type": "code",
   "execution_count": null,
   "id": "93af748a",
   "metadata": {},
   "outputs": [],
   "source": [
    "df_final = pd.concat([df_merged_2015_eth, df_merged_2020_eth], ignore_index=True)\n",
    "df_final.drop(columns=['year', 'Total', 'closest_year'], inplace=True)\n",
    "df_final"
   ]
  },
  {
   "cell_type": "markdown",
   "id": "0a2cd62e",
   "metadata": {},
   "source": [
    "## Residential Unemployment"
   ]
  },
  {
   "cell_type": "code",
   "execution_count": null,
   "id": "e2bd5776",
   "metadata": {},
   "outputs": [],
   "source": [
    "# Choose relevant rows\n",
    "df_unemployment = pd.read_csv(\"../data/raw/unemployment.csv\")\n",
    "df_unemployment = df_unemployment.iloc[9:12]\n",
    "df_unemployment.columns = df_unemployment.iloc[0]\n",
    "\n",
    "# Pivot the columns\n",
    "df_unemployment = df_unemployment[1:]\n",
    "df_unemployment = df_unemployment.melt(id_vars=[\"Data Series\"], var_name=\"year\", value_name=\"unemployment_rate\")\n",
    "df_unemployment[\"year\"] = df_unemployment[\"year\"].astype(int)\n",
    "df_unemployment = df_unemployment.pivot(index=\"year\", columns=\"Data Series\", values=\"unemployment_rate\").reset_index()\n",
    "df_unemployment.columns = [\"year\", \"resident_unemployment_rate\"]\n",
    "\n",
    "# Join with resale dataframe\n",
    "df_final[\"year\"] = df_final[\"year\"].astype(int)\n",
    "df_final = df_final.merge(df_unemployment, on=\"year\", how=\"left\")"
   ]
  },
  {
   "cell_type": "markdown",
   "id": "b75b1c29",
   "metadata": {},
   "source": [
    "## Average Household Income"
   ]
  },
  {
   "cell_type": "code",
   "execution_count": null,
   "id": "f062d317",
   "metadata": {},
   "outputs": [],
   "source": [
    "income_2015 = pd.read_csv(\"../data/raw/Household_income_2015.csv\")\n",
    "income_2020 = pd.read_csv(\"../data/raw/Household_income_2020.csv\")\n",
    "\n",
    "income_2015.rename(columns={'Thousands': 'town'}, inplace=True)\n",
    "income_2020.rename(columns={'Number': 'town'}, inplace=True)\n",
    "income_2015['town'] = income_2015['town'].str.upper()\n",
    "income_2020['town'] = income_2015['town'].str.upper()"
   ]
  },
  {
   "cell_type": "markdown",
   "id": "b6e6a00a",
   "metadata": {},
   "source": [
    "Note that there are some discrepancies between towns in resale data and household income data. To be specific,\n",
    "\n",
    "- `TANGLIN, NOVENA, OTHERS` (in income data) are not in resale data. We will drop them.\n",
    "- `CENTRAL AREA (in resale data)` is missing from income data (but we are mapping `OUTRAM` to it).\n",
    "- `KALLANG/WHAMPOA` (in resale data) is missing from income data (but we are mapping `KALLANG` to it).\n"
   ]
  },
  {
   "cell_type": "code",
   "execution_count": null,
   "id": "be335f6d",
   "metadata": {},
   "outputs": [],
   "source": [
    "region_mapping = {\n",
    "    'KALLANG': 'KALLANG/WHAMPOA',\n",
    "    'OUTRAM': 'CENTRAL AREA'\n",
    "}\n",
    "\n",
    "income_2015['town'] = income_2015['town'].replace(region_mapping)\n",
    "income_2020['town'] = income_2020['town'].replace(region_mapping)\n",
    "\n",
    "\n",
    "resale_regions = list(df_resale['town'].unique())\n",
    "income_2015 = income_2015[income_2015['town'].isin(resale_regions)]\n",
    "income_2020 = income_2020[income_2020['town'].isin(resale_regions)]\n",
    "\n",
    "midpoints = {\n",
    "    'Below_1_000': 500,\n",
    "    '1_000_1_499': 1250,\n",
    "    '1_500_1_999': 1750,\n",
    "    '2_000_2_499': 2250,\n",
    "    '2_500_2_999': 2750,\n",
    "    '3_000_3_999': 3500,\n",
    "    '4_000_4_999': 4500,\n",
    "    '5_000_5_999': 5500,\n",
    "    '6_000_6_999': 6500,\n",
    "    '7_000_7_999': 7500,\n",
    "    '8_000_8_999': 8500,\n",
    "    '9_000_9_999': 9500,\n",
    "    '10_000_10_999': 10500,\n",
    "    '11_000_11_999': 11500,\n",
    "    '12_000andOver': 13000 \n",
    "}\n",
    "\n",
    "def estimate_average_income(row):\n",
    "    total_pop = row['Total'] \n",
    "    sum = 0\n",
    "    for bracket, midpoint in midpoints.items():\n",
    "        bracket_pop = row.get(bracket, 0)\n",
    "        sum += bracket_pop * midpoint\n",
    "    return sum / total_pop\n",
    "\n",
    "income_2015['household_income_2015'] = income_2015.apply(estimate_average_income, axis=1)\n",
    "income_2020['household_income_2020'] = income_2020.apply(estimate_average_income, axis=1)\n",
    "\n",
    "income_2015 = income_2015[['town', 'household_income_2015']]\n",
    "income_2020 = income_2020[['town', 'household_income_2020']]\n",
    "df_household_income = income_2015.merge(income_2020, on='town', how='left')\n",
    "df_household_income = df_household_income.melt(\n",
    "    id_vars=['town'], \n",
    "    value_vars=['household_income_2015', 'household_income_2020'],\n",
    "    var_name='year',\n",
    "    value_name='avg_household_income'\n",
    ")\n",
    "\n",
    "df_household_income['year'] = df_household_income['year'].map({\n",
    "    'household_income_2015': 2015,\n",
    "    'household_income_2020': 2020\n",
    "})"
   ]
  },
  {
   "cell_type": "markdown",
   "id": "94b6c63a",
   "metadata": {},
   "source": [
    "Join `df_household_income` with `df_resale` using town and year. We can map\n",
    "\n",
    "- 2015-2019 in resale price → 2015 in household income\n",
    "- 2020 and beyond in resale price → 2020 in household income"
   ]
  },
  {
   "cell_type": "code",
   "execution_count": null,
   "id": "f6edbaab",
   "metadata": {},
   "outputs": [],
   "source": [
    "df_final['income_year'] = df_final['year'].apply(lambda x: 2015 if x <= 2019 else 2020)\n",
    "df_final = df_final.merge(\n",
    "    df_household_income, \n",
    "    left_on=['town', 'income_year'], \n",
    "    right_on=['town', 'year'], \n",
    "    how='left'\n",
    ").drop(columns=['year'])"
   ]
  },
  {
   "cell_type": "code",
   "execution_count": null,
   "id": "dec3f4e6",
   "metadata": {},
   "outputs": [],
   "source": [
    "df_final.to_csv('../data/cleaned/resale_price_cleaned_4.csv', index=False)"
   ]
  }
 ],
 "metadata": {
  "language_info": {
   "name": "python"
  }
 },
 "nbformat": 4,
 "nbformat_minor": 5
}
